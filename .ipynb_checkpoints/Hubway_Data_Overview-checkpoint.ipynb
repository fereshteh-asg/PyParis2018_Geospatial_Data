{
 "cells": [
  {
   "cell_type": "code",
   "execution_count": 2,
   "metadata": {
    "collapsed": true
   },
   "outputs": [],
   "source": [
    "import folium \n",
    "import pandas\n",
    "import csv\n",
    "import numpy as np\n",
    "import matplotlib.pyplot as plt\n",
    "%matplotlib inline  "
   ]
  },
  {
   "cell_type": "code",
   "execution_count": 3,
   "metadata": {},
   "outputs": [
    {
     "data": {
      "text/html": [
       "<div>\n",
       "<style>\n",
       "    .dataframe thead tr:only-child th {\n",
       "        text-align: right;\n",
       "    }\n",
       "\n",
       "    .dataframe thead th {\n",
       "        text-align: left;\n",
       "    }\n",
       "\n",
       "    .dataframe tbody tr th {\n",
       "        vertical-align: top;\n",
       "    }\n",
       "</style>\n",
       "<table border=\"1\" class=\"dataframe\">\n",
       "  <thead>\n",
       "    <tr style=\"text-align: right;\">\n",
       "      <th></th>\n",
       "      <th>Station number</th>\n",
       "      <th>Station name</th>\n",
       "      <th>Jurisdiction</th>\n",
       "      <th>Latitude</th>\n",
       "      <th>Longitude</th>\n",
       "      <th>Number of docks</th>\n",
       "    </tr>\n",
       "  </thead>\n",
       "  <tbody>\n",
       "    <tr>\n",
       "      <th>0</th>\n",
       "      <td>M32026</td>\n",
       "      <td>359 Broadway - Broadway at Fayette Street</td>\n",
       "      <td>Cambridge</td>\n",
       "      <td>42.370803</td>\n",
       "      <td>-71.104412</td>\n",
       "      <td>19</td>\n",
       "    </tr>\n",
       "    <tr>\n",
       "      <th>1</th>\n",
       "      <td>A32002</td>\n",
       "      <td>Agganis Arena - 925 Comm Ave.</td>\n",
       "      <td>Boston</td>\n",
       "      <td>42.351246</td>\n",
       "      <td>-71.115639</td>\n",
       "      <td>19</td>\n",
       "    </tr>\n",
       "    <tr>\n",
       "      <th>2</th>\n",
       "      <td>M32033</td>\n",
       "      <td>Alewife Station at Russell Field</td>\n",
       "      <td>Cambridge</td>\n",
       "      <td>42.396105</td>\n",
       "      <td>-71.139459</td>\n",
       "      <td>23</td>\n",
       "    </tr>\n",
       "    <tr>\n",
       "      <th>3</th>\n",
       "      <td>A32017</td>\n",
       "      <td>Allston Green District - Commonwealth Ave &amp; Gr...</td>\n",
       "      <td>Boston</td>\n",
       "      <td>42.348607</td>\n",
       "      <td>-71.134010</td>\n",
       "      <td>15</td>\n",
       "    </tr>\n",
       "    <tr>\n",
       "      <th>4</th>\n",
       "      <td>M32037</td>\n",
       "      <td>Ames St at Main St</td>\n",
       "      <td>Cambridge</td>\n",
       "      <td>42.362500</td>\n",
       "      <td>-71.088220</td>\n",
       "      <td>19</td>\n",
       "    </tr>\n",
       "  </tbody>\n",
       "</table>\n",
       "</div>"
      ],
      "text/plain": [
       "  Station number                                       Station name  \\\n",
       "0         M32026          359 Broadway - Broadway at Fayette Street   \n",
       "1         A32002                      Agganis Arena - 925 Comm Ave.   \n",
       "2         M32033                   Alewife Station at Russell Field   \n",
       "3         A32017  Allston Green District - Commonwealth Ave & Gr...   \n",
       "4         M32037                                 Ames St at Main St   \n",
       "\n",
       "  Jurisdiction   Latitude  Longitude  Number of docks  \n",
       "0    Cambridge  42.370803 -71.104412               19  \n",
       "1       Boston  42.351246 -71.115639               19  \n",
       "2    Cambridge  42.396105 -71.139459               23  \n",
       "3       Boston  42.348607 -71.134010               15  \n",
       "4    Cambridge  42.362500 -71.088220               19  "
      ]
     },
     "execution_count": 3,
     "metadata": {},
     "output_type": "execute_result"
    }
   ],
   "source": [
    "s1=pandas.read_csv('Data/Hubway_Stations_2011_2016.csv')\n",
    "s2=pandas.read_csv('Data/2016_0429_Hubway_Stations.csv')\n",
    "s3=pandas.merge(s1,s2, how='outer')\n",
    "s4=pandas.read_csv('Data/hubway_Stations.csv')\n",
    "#s4 = s4.rename(columns={'Station number': 'Station ID', 'Station name': 'Station' , 'Jurisdiction' :'Municipality', \n",
    "  #                      'Number of docks': '# of Docks'})\n",
    "#stations=pandas.merge(s3,s4,how='outer')\n",
    "stations=s4\n",
    "\n",
    "\n",
    "#print(len(stations))\n",
    "stations.head()"
   ]
  },
  {
   "cell_type": "code",
   "execution_count": 6,
   "metadata": {},
   "outputs": [
    {
     "ename": "TypeError",
     "evalue": "cannot convert the series to <class 'float'>",
     "output_type": "error",
     "traceback": [
      "\u001b[0;31m---------------------------------------------------------------------------\u001b[0m",
      "\u001b[0;31mTypeError\u001b[0m                                 Traceback (most recent call last)",
      "\u001b[0;32m<ipython-input-6-72ae4313fc5c>\u001b[0m in \u001b[0;36m<module>\u001b[0;34m()\u001b[0m\n\u001b[1;32m     17\u001b[0m         \u001b[0;31m#print(lat)\u001b[0m\u001b[0;34m\u001b[0m\u001b[0;34m\u001b[0m\u001b[0m\n\u001b[1;32m     18\u001b[0m         \u001b[0;31m#ll.append(lat)\u001b[0m\u001b[0;34m\u001b[0m\u001b[0;34m\u001b[0m\u001b[0m\n\u001b[0;32m---> 19\u001b[0;31m     \u001b[0mfolium\u001b[0m\u001b[0;34m.\u001b[0m\u001b[0mMarker\u001b[0m\u001b[0;34m(\u001b[0m\u001b[0;34m[\u001b[0m\u001b[0mlon\u001b[0m\u001b[0;34m,\u001b[0m\u001b[0mlat\u001b[0m\u001b[0;34m]\u001b[0m \u001b[0;34m)\u001b[0m\u001b[0;34m.\u001b[0m\u001b[0madd_to\u001b[0m\u001b[0;34m(\u001b[0m\u001b[0mmy_m\u001b[0m\u001b[0;34m)\u001b[0m\u001b[0;34m\u001b[0m\u001b[0m\n\u001b[0m\u001b[1;32m     20\u001b[0m         \u001b[0;31m#folium.CircleMarker([lat,lon],  radius=50, color='#red', fill_color='red').add_to(my_m)\u001b[0m\u001b[0;34m\u001b[0m\u001b[0;34m\u001b[0m\u001b[0m\n\u001b[1;32m     21\u001b[0m \u001b[0mprint\u001b[0m\u001b[0;34m(\u001b[0m\u001b[0mll\u001b[0m\u001b[0;34m)\u001b[0m\u001b[0;34m\u001b[0m\u001b[0m\n",
      "\u001b[0;32m~/anaconda3/lib/python3.6/site-packages/folium/map.py\u001b[0m in \u001b[0;36m__init__\u001b[0;34m(self, location, popup, icon)\u001b[0m\n\u001b[1;32m    645\u001b[0m         \u001b[0;31m# Must be _validate_coordinates b/c some markers are defined with\u001b[0m\u001b[0;34m\u001b[0m\u001b[0;34m\u001b[0m\u001b[0m\n\u001b[1;32m    646\u001b[0m         \u001b[0;31m# multiple coordinates values, like Polygons.\u001b[0m\u001b[0;34m\u001b[0m\u001b[0;34m\u001b[0m\u001b[0m\n\u001b[0;32m--> 647\u001b[0;31m         \u001b[0mself\u001b[0m\u001b[0;34m.\u001b[0m\u001b[0mlocation\u001b[0m \u001b[0;34m=\u001b[0m \u001b[0m_validate_coordinates\u001b[0m\u001b[0;34m(\u001b[0m\u001b[0mlocation\u001b[0m\u001b[0;34m)\u001b[0m\u001b[0;34m\u001b[0m\u001b[0m\n\u001b[0m\u001b[1;32m    648\u001b[0m         \u001b[0;32mif\u001b[0m \u001b[0micon\u001b[0m \u001b[0;32mis\u001b[0m \u001b[0;32mnot\u001b[0m \u001b[0;32mNone\u001b[0m\u001b[0;34m:\u001b[0m\u001b[0;34m\u001b[0m\u001b[0m\n\u001b[1;32m    649\u001b[0m             \u001b[0mself\u001b[0m\u001b[0;34m.\u001b[0m\u001b[0madd_child\u001b[0m\u001b[0;34m(\u001b[0m\u001b[0micon\u001b[0m\u001b[0;34m)\u001b[0m\u001b[0;34m\u001b[0m\u001b[0m\n",
      "\u001b[0;32m~/anaconda3/lib/python3.6/site-packages/folium/utilities.py\u001b[0m in \u001b[0;36m_validate_coordinates\u001b[0;34m(coordinates)\u001b[0m\n\u001b[1;32m     44\u001b[0m \u001b[0;32mdef\u001b[0m \u001b[0m_validate_coordinates\u001b[0m\u001b[0;34m(\u001b[0m\u001b[0mcoordinates\u001b[0m\u001b[0;34m)\u001b[0m\u001b[0;34m:\u001b[0m\u001b[0;34m\u001b[0m\u001b[0m\n\u001b[1;32m     45\u001b[0m     \u001b[0;34m\"\"\"Validates multiple coordinates for the various markers in folium.\"\"\"\u001b[0m\u001b[0;34m\u001b[0m\u001b[0m\n\u001b[0;32m---> 46\u001b[0;31m     \u001b[0;32mif\u001b[0m \u001b[0m_isnan\u001b[0m\u001b[0;34m(\u001b[0m\u001b[0mcoordinates\u001b[0m\u001b[0;34m)\u001b[0m\u001b[0;34m:\u001b[0m\u001b[0;34m\u001b[0m\u001b[0m\n\u001b[0m\u001b[1;32m     47\u001b[0m         raise ValueError('Location values cannot contain NaNs, '\n\u001b[1;32m     48\u001b[0m                          'got:\\n{!r}'.format(coordinates))\n",
      "\u001b[0;32m~/anaconda3/lib/python3.6/site-packages/folium/utilities.py\u001b[0m in \u001b[0;36m_isnan\u001b[0;34m(values)\u001b[0m\n\u001b[1;32m     70\u001b[0m \u001b[0;32mdef\u001b[0m \u001b[0m_isnan\u001b[0m\u001b[0;34m(\u001b[0m\u001b[0mvalues\u001b[0m\u001b[0;34m)\u001b[0m\u001b[0;34m:\u001b[0m\u001b[0;34m\u001b[0m\u001b[0m\n\u001b[1;32m     71\u001b[0m     \u001b[0;34m\"\"\"Check if there are NaNs values in the iterable.\"\"\"\u001b[0m\u001b[0;34m\u001b[0m\u001b[0m\n\u001b[0;32m---> 72\u001b[0;31m     \u001b[0;32mreturn\u001b[0m \u001b[0many\u001b[0m\u001b[0;34m(\u001b[0m\u001b[0mmath\u001b[0m\u001b[0;34m.\u001b[0m\u001b[0misnan\u001b[0m\u001b[0;34m(\u001b[0m\u001b[0mvalue\u001b[0m\u001b[0;34m)\u001b[0m \u001b[0;32mfor\u001b[0m \u001b[0mvalue\u001b[0m \u001b[0;32min\u001b[0m \u001b[0m_flatten\u001b[0m\u001b[0;34m(\u001b[0m\u001b[0mvalues\u001b[0m\u001b[0;34m)\u001b[0m\u001b[0;34m)\u001b[0m\u001b[0;34m\u001b[0m\u001b[0m\n\u001b[0m\u001b[1;32m     73\u001b[0m \u001b[0;34m\u001b[0m\u001b[0m\n\u001b[1;32m     74\u001b[0m \u001b[0;34m\u001b[0m\u001b[0m\n",
      "\u001b[0;32m~/anaconda3/lib/python3.6/site-packages/folium/utilities.py\u001b[0m in \u001b[0;36m<genexpr>\u001b[0;34m(.0)\u001b[0m\n\u001b[1;32m     70\u001b[0m \u001b[0;32mdef\u001b[0m \u001b[0m_isnan\u001b[0m\u001b[0;34m(\u001b[0m\u001b[0mvalues\u001b[0m\u001b[0;34m)\u001b[0m\u001b[0;34m:\u001b[0m\u001b[0;34m\u001b[0m\u001b[0m\n\u001b[1;32m     71\u001b[0m     \u001b[0;34m\"\"\"Check if there are NaNs values in the iterable.\"\"\"\u001b[0m\u001b[0;34m\u001b[0m\u001b[0m\n\u001b[0;32m---> 72\u001b[0;31m     \u001b[0;32mreturn\u001b[0m \u001b[0many\u001b[0m\u001b[0;34m(\u001b[0m\u001b[0mmath\u001b[0m\u001b[0;34m.\u001b[0m\u001b[0misnan\u001b[0m\u001b[0;34m(\u001b[0m\u001b[0mvalue\u001b[0m\u001b[0;34m)\u001b[0m \u001b[0;32mfor\u001b[0m \u001b[0mvalue\u001b[0m \u001b[0;32min\u001b[0m \u001b[0m_flatten\u001b[0m\u001b[0;34m(\u001b[0m\u001b[0mvalues\u001b[0m\u001b[0;34m)\u001b[0m\u001b[0;34m)\u001b[0m\u001b[0;34m\u001b[0m\u001b[0m\n\u001b[0m\u001b[1;32m     73\u001b[0m \u001b[0;34m\u001b[0m\u001b[0m\n\u001b[1;32m     74\u001b[0m \u001b[0;34m\u001b[0m\u001b[0m\n",
      "\u001b[0;32m~/anaconda3/lib/python3.6/site-packages/pandas/core/series.py\u001b[0m in \u001b[0;36mwrapper\u001b[0;34m(self)\u001b[0m\n\u001b[1;32m     95\u001b[0m             \u001b[0;32mreturn\u001b[0m \u001b[0mconverter\u001b[0m\u001b[0;34m(\u001b[0m\u001b[0mself\u001b[0m\u001b[0;34m.\u001b[0m\u001b[0miloc\u001b[0m\u001b[0;34m[\u001b[0m\u001b[0;36m0\u001b[0m\u001b[0;34m]\u001b[0m\u001b[0;34m)\u001b[0m\u001b[0;34m\u001b[0m\u001b[0m\n\u001b[1;32m     96\u001b[0m         raise TypeError(\"cannot convert the series to \"\n\u001b[0;32m---> 97\u001b[0;31m                         \"{0}\".format(str(converter)))\n\u001b[0m\u001b[1;32m     98\u001b[0m \u001b[0;34m\u001b[0m\u001b[0m\n\u001b[1;32m     99\u001b[0m     \u001b[0;32mreturn\u001b[0m \u001b[0mwrapper\u001b[0m\u001b[0;34m\u001b[0m\u001b[0m\n",
      "\u001b[0;31mTypeError\u001b[0m: cannot convert the series to <class 'float'>"
     ]
    }
   ],
   "source": [
    "stations#.loc['Station ID'=='A32000']\n",
    "l=['M32011', 'M32009', 'M32037', 'D32022', 'D32005', 'M32018', 'B32016', 'D32016', 'A32010', 'M32006']\n",
    "\n",
    "\n",
    "my_m = folium.Map(location=[42.36,-71.1] , zoom_start=13)\n",
    "#folium.TileLayer('mapquestopen').add_to(my_m)\n",
    "\n",
    "ll=[]\n",
    "for i in l:   \n",
    "    Id=stations.loc[stations['Station number'] == i].index\n",
    "    #print(Id)\n",
    "    #print(stations.iloc[Id]['Longitude'])\n",
    "    #print(stations.loc[Id]['Longitude'])\n",
    "    #if len(stations.loc[stations['Station number'] == i])==1:      \n",
    "    lon=stations.iloc[Id]['Longitude']\n",
    "    lat=stations.iloc[Id]['Latitude']\n",
    "        #print(lat)\n",
    "        #ll.append(lat)\n",
    "    folium.Marker([lon,lat] ).add_to(my_m)\n",
    "        #folium.CircleMarker([lat,lon],  radius=50, color='#red', fill_color='red').add_to(my_m)\n",
    "print(ll)   \n",
    "my_m"
   ]
  },
  {
   "cell_type": "code",
   "execution_count": 13,
   "metadata": {},
   "outputs": [
    {
     "ename": "ValueError",
     "evalue": "Custom tiles must also be passed an attribution.",
     "output_type": "error",
     "traceback": [
      "\u001b[0;31m---------------------------------------------------------------------------\u001b[0m",
      "\u001b[0;31mValueError\u001b[0m                                Traceback (most recent call last)",
      "\u001b[0;32m<ipython-input-13-91e638d5c362>\u001b[0m in \u001b[0;36m<module>\u001b[0;34m()\u001b[0m\n\u001b[1;32m      3\u001b[0m \u001b[0;31m#visualize the hubway stations\u001b[0m\u001b[0;34m\u001b[0m\u001b[0;34m\u001b[0m\u001b[0m\n\u001b[1;32m      4\u001b[0m \u001b[0mmy_map\u001b[0m \u001b[0;34m=\u001b[0m \u001b[0mfolium\u001b[0m\u001b[0;34m.\u001b[0m\u001b[0mMap\u001b[0m\u001b[0;34m(\u001b[0m\u001b[0mlocation\u001b[0m\u001b[0;34m=\u001b[0m\u001b[0;34m[\u001b[0m\u001b[0;36m42.36\u001b[0m\u001b[0;34m,\u001b[0m\u001b[0;34m-\u001b[0m\u001b[0;36m71.1\u001b[0m\u001b[0;34m]\u001b[0m \u001b[0;34m,\u001b[0m \u001b[0mzoom_start\u001b[0m\u001b[0;34m=\u001b[0m\u001b[0;36m13\u001b[0m\u001b[0;34m)\u001b[0m\u001b[0;34m\u001b[0m\u001b[0m\n\u001b[0;32m----> 5\u001b[0;31m \u001b[0mfolium\u001b[0m\u001b[0;34m.\u001b[0m\u001b[0mTileLayer\u001b[0m\u001b[0;34m(\u001b[0m\u001b[0;34m'mapquestopen'\u001b[0m\u001b[0;34m)\u001b[0m\u001b[0;34m.\u001b[0m\u001b[0madd_to\u001b[0m\u001b[0;34m(\u001b[0m\u001b[0mmy_map\u001b[0m\u001b[0;34m)\u001b[0m\u001b[0;34m\u001b[0m\u001b[0m\n\u001b[0m\u001b[1;32m      6\u001b[0m \u001b[0mmarker_cluster\u001b[0m \u001b[0;34m=\u001b[0m \u001b[0mfolium\u001b[0m\u001b[0;34m.\u001b[0m\u001b[0mMarkerCluster\u001b[0m\u001b[0;34m(\u001b[0m\u001b[0;34m\"Public toilet cluster\"\u001b[0m\u001b[0;34m)\u001b[0m\u001b[0;34m.\u001b[0m\u001b[0madd_to\u001b[0m\u001b[0;34m(\u001b[0m\u001b[0mmy_map\u001b[0m\u001b[0;34m)\u001b[0m\u001b[0;34m\u001b[0m\u001b[0m\n\u001b[1;32m      7\u001b[0m \u001b[0;34m\u001b[0m\u001b[0m\n",
      "\u001b[0;32m~/anaconda3/lib/python3.6/site-packages/folium/map.py\u001b[0m in \u001b[0;36m__init__\u001b[0;34m(self, tiles, min_zoom, max_zoom, attr, API_key, detect_retina, name, overlay, control, no_wrap, subdomains)\u001b[0m\n\u001b[1;32m    452\u001b[0m             \u001b[0mself\u001b[0m\u001b[0;34m.\u001b[0m\u001b[0mtiles\u001b[0m \u001b[0;34m=\u001b[0m \u001b[0mtiles\u001b[0m\u001b[0;34m\u001b[0m\u001b[0m\n\u001b[1;32m    453\u001b[0m             \u001b[0;32mif\u001b[0m \u001b[0;32mnot\u001b[0m \u001b[0mattr\u001b[0m\u001b[0;34m:\u001b[0m\u001b[0;34m\u001b[0m\u001b[0m\n\u001b[0;32m--> 454\u001b[0;31m                 raise ValueError('Custom tiles must'\n\u001b[0m\u001b[1;32m    455\u001b[0m                                  ' also be passed an attribution.')\n\u001b[1;32m    456\u001b[0m             \u001b[0;32mif\u001b[0m \u001b[0misinstance\u001b[0m\u001b[0;34m(\u001b[0m\u001b[0mattr\u001b[0m\u001b[0;34m,\u001b[0m \u001b[0mbinary_type\u001b[0m\u001b[0;34m)\u001b[0m\u001b[0;34m:\u001b[0m\u001b[0;34m\u001b[0m\u001b[0m\n",
      "\u001b[0;31mValueError\u001b[0m: Custom tiles must also be passed an attribution."
     ]
    }
   ],
   "source": [
    "import json\n",
    "import io\n",
    "#visualize the hubway stations\n",
    "my_map = folium.Map(location=[42.36,-71.1] , zoom_start=13)\n",
    "folium.TileLayer('mapquestopen').add_to(my_map)\n",
    "marker_cluster = folium.MarkerCluster(\"Public toilet cluster\").add_to(my_map)\n",
    "\n",
    "stats={}\n",
    "data_js={}\n",
    "\n",
    "\n",
    "    \n",
    "    \n",
    "for i in range(0,len(stations)):\n",
    "    folium.CircleMarker([(stations['Latitude'][i]),(stations['Longitude'][i])],\n",
    "                    radius=50,\n",
    "                    popup=str((stations['Station'][i])),\n",
    "                    color='#red',\n",
    "                    fill_color='red',\n",
    "                   ).add_to(my_map)\n",
    "                \n",
    "\n",
    "    \n",
    "#for i in range(0,len(stations)):\n",
    "\n",
    "    #folium.Marker([(stations['Latitude'][i]), (stations['Longitude'][i])]).add_to(marker_cluster)\n",
    "    stats[stations['Station ID'][i]]={'lat':stations['Latitude'][i], 'lon':stations['Longitude'][i], \n",
    "                                        'Jur': stations['Municipality'][i], 'address':stations['Station'][i]}\n",
    "    \n",
    "    #Creating the data_js dictionary to store the number of trips from/to stations\n",
    "    k=str(stations[\"Longitude\"][i])+\",\"+str(stations[\"Latitude\"][i])    \n",
    "    data_js[k]={\"jur\":stations['Municipality'][i],\"name\":stations[\"Station ID\"][i],\"start\":[0] * 24,\"end\": [0] * 24}\n",
    "                                                                \n",
    "#\n",
    "folium.CircleMarker([42.3581,-71.093198],\n",
    "                    radius=100,\n",
    "                    popup='The most popular ending station',\n",
    "                    color='#red',\n",
    "                    fill_color='red',\n",
    "                   ).add_to(my_map)\n",
    "\n",
    "\n",
    "with open('stations.json', 'w') as outfile:\n",
    "     json.dump(stats, outfile, sort_keys = True, indent = 4,\n",
    "               ensure_ascii = False)\n",
    "        \n",
    "        \n",
    "with open('data_js.json', 'w') as outfile:\n",
    "     json.dump(data_js, outfile, sort_keys = True, indent = 4,\n",
    "               ensure_ascii = False)\n",
    "    \n",
    "#print(stats)              \n",
    "my_map.save('test.html')\n",
    "#print(stats)\n",
    "print(len(data_js))\n",
    "#print(data_js)\n",
    "my_map"
   ]
  },
  {
   "cell_type": "code",
   "execution_count": 19,
   "metadata": {},
   "outputs": [
    {
     "name": "stdout",
     "output_type": "stream",
     "text": [
      "140974\n"
     ]
    },
    {
     "name": "stderr",
     "output_type": "stream",
     "text": [
      "/Users/fereshteh/anaconda3/lib/python3.6/site-packages/IPython/core/interactiveshell.py:2698: DtypeWarning: Columns (9) have mixed types. Specify dtype option on import or set low_memory=False.\n",
      "  interactivity=interactivity, compiler=compiler, result=result)\n"
     ]
    }
   ],
   "source": [
    "trips_2014=pandas.read_csv('Data/hubway_Trips_2011.csv')\n",
    "\n",
    "print(len(trips_2014))\n",
    "#trips_2014"
   ]
  },
  {
   "cell_type": "code",
   "execution_count": 20,
   "metadata": {},
   "outputs": [
    {
     "data": {
      "text/plain": [
       "Male      61668\n",
       "Female    17925\n",
       "Name: Gender, dtype: int64"
      ]
     },
     "execution_count": 20,
     "metadata": {},
     "output_type": "execute_result"
    }
   ],
   "source": [
    "df=pandas.DataFrame(trips_2014)\n",
    "\n",
    "df.Gender.value_counts()\n",
    "\n",
    "#df.plot.hist('gender')\n",
    "#plt.show()"
   ]
  },
  {
   "cell_type": "code",
   "execution_count": 21,
   "metadata": {},
   "outputs": [
    {
     "data": {
      "text/plain": [
       "\"\\nprint(len(trips_month))\\nprint(max(trips_month['tripduration'])/3600)\\n#trips_month['tripduration'].value_counts()\\n#trips_month\\n\\na=(trips_month['tripduration']).argmax()\\nprint(trips_month.loc[a])\\n\\n\\n#ss=trips_month[trips_month['tripduration'] != max(trips_month['tripduration'])]\\n\\nss=trips_month[trips_month['tripduration'] <20000]\\nprint(len(ss))\\nprint(sum(ss['tripduration'])/len(ss)/3600)\\n\""
      ]
     },
     "execution_count": 21,
     "metadata": {},
     "output_type": "execute_result"
    }
   ],
   "source": [
    "trips_month=pandas.read_csv('Data/TripData/201503-hubway-tripdata.csv')\n",
    "'''\n",
    "print(len(trips_month))\n",
    "print(max(trips_month['tripduration'])/3600)\n",
    "#trips_month['tripduration'].value_counts()\n",
    "#trips_month\n",
    "\n",
    "a=(trips_month['tripduration']).argmax()\n",
    "print(trips_month.loc[a])\n",
    "\n",
    "\n",
    "#ss=trips_month[trips_month['tripduration'] != max(trips_month['tripduration'])]\n",
    "\n",
    "ss=trips_month[trips_month['tripduration'] <20000]\n",
    "print(len(ss))\n",
    "print(sum(ss['tripduration'])/len(ss)/3600)\n",
    "'''"
   ]
  },
  {
   "cell_type": "code",
   "execution_count": 22,
   "metadata": {},
   "outputs": [
    {
     "data": {
      "text/plain": [
       "['tripduration',\n",
       " 'starttime',\n",
       " 'stoptime',\n",
       " 'start station id',\n",
       " 'start station name',\n",
       " 'start station latitude',\n",
       " 'start station longitude',\n",
       " 'end station id',\n",
       " 'end station name',\n",
       " 'end station latitude',\n",
       " 'end station longitude',\n",
       " 'bikeid',\n",
       " 'usertype',\n",
       " 'birth year',\n",
       " 'gender']"
      ]
     },
     "execution_count": 22,
     "metadata": {},
     "output_type": "execute_result"
    }
   ],
   "source": [
    "df=pandas.DataFrame(trips_month)\n",
    "\n",
    "df.gender.value_counts()\n",
    "#df = df.rename(columns={'start station id': 'start_station_id', 'birth year': 'birthyear'})\n",
    "#df\n",
    "list(df)"
   ]
  },
  {
   "cell_type": "code",
   "execution_count": 106,
   "metadata": {},
   "outputs": [
    {
     "data": {
      "text/plain": [
       "\"df.gender.plot.hist()\\nplt.xlabel('birth_year')\\n#plt.axis([1, 2000, 0, 6000])\\n#t = np.arange(0., 2000., 1)\\nplt.show()\\n\""
      ]
     },
     "execution_count": 106,
     "metadata": {},
     "output_type": "execute_result"
    }
   ],
   "source": [
    "'''df.gender.plot.hist()\n",
    "plt.xlabel('birth_year')\n",
    "#plt.axis([1, 2000, 0, 6000])\n",
    "#t = np.arange(0., 2000., 1)\n",
    "plt.show()\n",
    "''' "
   ]
  },
  {
   "cell_type": "code",
   "execution_count": null,
   "metadata": {
    "collapsed": true
   },
   "outputs": [],
   "source": [
    "#t = np.arange(0., 2000., 1)\n",
    "#plt.plot(t, t, 'r--', t, t**2, 'bs', t, t**3, 'g^')"
   ]
  },
  {
   "cell_type": "code",
   "execution_count": 23,
   "metadata": {},
   "outputs": [
    {
     "name": "stdout",
     "output_type": "stream",
     "text": [
      "['201501', '201502', '201503', '201504', '201505', '201506', '201507', '201508', '201509', '201510', '201511', '201512', '201601', '201602', '201603', '201604', '201605', '201606', '201607', '201608', '201609', '201610', '201611', '201612']\n"
     ]
    }
   ],
   "source": [
    "import glob\n",
    "\n",
    "path ='Data/TripData' # use your path\n",
    "allFiles = glob.glob(path + \"/*.csv\")\n",
    "frame = pandas.DataFrame()\n",
    "index=[]\n",
    "for file in allFiles:\n",
    "    index.append(''.join(c for c in file if c.isdigit()))\n",
    "    \n",
    "print(index)"
   ]
  },
  {
   "cell_type": "code",
   "execution_count": 24,
   "metadata": {
    "collapsed": true
   },
   "outputs": [],
   "source": [
    "columns = ['trip_no', 'men_per', 'women_per', 'no_gender', 'Ave_trip_duration', \n",
    "           'Subscriber','Customer','same_station', 'Subscrib_per']\n",
    "result_f = pandas.DataFrame(index=index, columns=columns)"
   ]
  },
  {
   "cell_type": "code",
   "execution_count": 26,
   "metadata": {
    "collapsed": true
   },
   "outputs": [],
   "source": [
    "#from geopy.distance import vincenty\n",
    "#(lat, lon)\n",
    "newport_ri = (41.49008, -71.312796)\n",
    "cleveland_oh = (41.499498, -81.695391)\n",
    "#print(vincenty(newport_ri, cleveland_oh).miles)\n"
   ]
  },
  {
   "cell_type": "markdown",
   "metadata": {},
   "source": [
    "# Monthly Data"
   ]
  },
  {
   "cell_type": "markdown",
   "metadata": {},
   "source": [
    "# General Overview"
   ]
  },
  {
   "cell_type": "code",
   "execution_count": 29,
   "metadata": {},
   "outputs": [
    {
     "name": "stdout",
     "output_type": "stream",
     "text": [
      "57\n"
     ]
    }
   ],
   "source": [
    "#data={}\n",
    "\n",
    "\n",
    "with open('data_js.json') as data_file:    \n",
    "    data = json.load(data_file)\n",
    "    \n",
    "    \n",
    "e=[]\n",
    "n=0\n",
    "for file in allFiles:\n",
    "    df=pandas.read_csv(file)\n",
    "    #s=df['start station id'].value_counts()#.index\n",
    "    start=df.groupby([\"start station latitude\", \"start station longitude\"]).size() \n",
    "    for i in range(0,len(start)):\n",
    "        lat, lon=start.index[i]\n",
    "        key=str(lon)+\",\"+str(lat)\n",
    "        #print(key,start[start.index[i]])\n",
    "        if key in data:\n",
    "            data[key][\"start\"][n]=int(start[start.index[i]])\n",
    "        else:\n",
    "            if key in e:\n",
    "                pass\n",
    "            else:\n",
    "                e.append(key)\n",
    "    \n",
    "    \n",
    "    end=df.groupby([\"end station latitude\", \"end station longitude\"]).size() \n",
    "    for i in range(0,len(end)):\n",
    "        lat, lon=end.index[i]\n",
    "        key=str(lon)+\",\"+str(lat)\n",
    "        if key in data:\n",
    "            data[key][\"end\"][n]=int(end[end.index[i]])\n",
    "        else:\n",
    "            #print(e)\n",
    "            if key in e:\n",
    "                pass\n",
    "            else:\n",
    "                e.append(key)\n",
    "        \n",
    "    n+=1    \n",
    "    #print(n)\n",
    "print(len(e))\n",
    "#print((data_js))   \n",
    "\n",
    "\n",
    "#with open('trip_counter.json', 'w') as f:\n",
    " #    json.dump(data_js, f)\n",
    "    \n",
    "    \n",
    "#import simplejson as js\n",
    "\n",
    "#print(json.dumps(data))\n",
    "\n",
    "with open('trip_counter.json', 'w') as outfile:\n",
    "     json.dump(data, outfile,sort_keys = True, indent = 4,\n",
    "               ensure_ascii = False)"
   ]
  },
  {
   "cell_type": "code",
   "execution_count": 72,
   "metadata": {
    "collapsed": true
   },
   "outputs": [],
   "source": [
    "#print(data)"
   ]
  },
  {
   "cell_type": "code",
   "execution_count": 42,
   "metadata": {},
   "outputs": [
    {
     "data": {
      "text/html": [
       "<div>\n",
       "<style>\n",
       "    .dataframe thead tr:only-child th {\n",
       "        text-align: right;\n",
       "    }\n",
       "\n",
       "    .dataframe thead th {\n",
       "        text-align: left;\n",
       "    }\n",
       "\n",
       "    .dataframe tbody tr th {\n",
       "        vertical-align: top;\n",
       "    }\n",
       "</style>\n",
       "<table border=\"1\" class=\"dataframe\">\n",
       "  <thead>\n",
       "    <tr style=\"text-align: right;\">\n",
       "      <th></th>\n",
       "      <th>trip_no</th>\n",
       "      <th>men_per</th>\n",
       "      <th>women_per</th>\n",
       "      <th>no_gender</th>\n",
       "      <th>Ave_trip_duration</th>\n",
       "      <th>Subscriber</th>\n",
       "      <th>Customer</th>\n",
       "      <th>same_station</th>\n",
       "      <th>Subscrib_per</th>\n",
       "    </tr>\n",
       "  </thead>\n",
       "  <tbody>\n",
       "    <tr>\n",
       "      <th>201501</th>\n",
       "      <td>7840.0</td>\n",
       "      <td>5672.0</td>\n",
       "      <td>1914.0</td>\n",
       "      <td>254.0</td>\n",
       "      <td>8.673463</td>\n",
       "      <td>5472.0</td>\n",
       "      <td>2353.0</td>\n",
       "      <td>140.0</td>\n",
       "      <td>0.697959</td>\n",
       "    </tr>\n",
       "    <tr>\n",
       "      <th>201502</th>\n",
       "      <td>4020.0</td>\n",
       "      <td>3110.0</td>\n",
       "      <td>748.0</td>\n",
       "      <td>162.0</td>\n",
       "      <td>9.755058</td>\n",
       "      <td>3064.0</td>\n",
       "      <td>947.0</td>\n",
       "      <td>103.0</td>\n",
       "      <td>0.762189</td>\n",
       "    </tr>\n",
       "    <tr>\n",
       "      <th>201503</th>\n",
       "      <td>11271.0</td>\n",
       "      <td>8061.0</td>\n",
       "      <td>2553.0</td>\n",
       "      <td>657.0</td>\n",
       "      <td>9.391033</td>\n",
       "      <td>8209.0</td>\n",
       "      <td>3040.0</td>\n",
       "      <td>0.0</td>\n",
       "      <td>0.728329</td>\n",
       "    </tr>\n",
       "    <tr>\n",
       "      <th>201504</th>\n",
       "      <td>55843.0</td>\n",
       "      <td>33161.0</td>\n",
       "      <td>11870.0</td>\n",
       "      <td>10812.0</td>\n",
       "      <td>13.538678</td>\n",
       "      <td>37136.0</td>\n",
       "      <td>18530.0</td>\n",
       "      <td>1772.0</td>\n",
       "      <td>0.665007</td>\n",
       "    </tr>\n",
       "    <tr>\n",
       "      <th>201505</th>\n",
       "      <td>149143.0</td>\n",
       "      <td>78411.0</td>\n",
       "      <td>28419.0</td>\n",
       "      <td>42313.0</td>\n",
       "      <td>15.455678</td>\n",
       "      <td>99021.0</td>\n",
       "      <td>49709.0</td>\n",
       "      <td>5014.0</td>\n",
       "      <td>0.663933</td>\n",
       "    </tr>\n",
       "  </tbody>\n",
       "</table>\n",
       "</div>"
      ],
      "text/plain": [
       "         trip_no  men_per  women_per  no_gender  Ave_trip_duration  \\\n",
       "201501    7840.0   5672.0     1914.0      254.0           8.673463   \n",
       "201502    4020.0   3110.0      748.0      162.0           9.755058   \n",
       "201503   11271.0   8061.0     2553.0      657.0           9.391033   \n",
       "201504   55843.0  33161.0    11870.0    10812.0          13.538678   \n",
       "201505  149143.0  78411.0    28419.0    42313.0          15.455678   \n",
       "\n",
       "        Subscriber  Customer  same_station  Subscrib_per  \n",
       "201501      5472.0    2353.0         140.0      0.697959  \n",
       "201502      3064.0     947.0         103.0      0.762189  \n",
       "201503      8209.0    3040.0           0.0      0.728329  \n",
       "201504     37136.0   18530.0        1772.0      0.665007  \n",
       "201505     99021.0   49709.0        5014.0      0.663933  "
      ]
     },
     "execution_count": 42,
     "metadata": {},
     "output_type": "execute_result"
    }
   ],
   "source": [
    "from datetime import datetime\n",
    "for file in allFiles:\n",
    "    df=pandas.read_csv(file)\n",
    "    trip_no=len(df)\n",
    "    a=df['gender'].value_counts()\n",
    "    idx=''.join(c for c in file if c.isdigit())\n",
    "    df=df[df['tripduration'] <10000]\n",
    "    result_f['trip_no'][idx]=int(trip_no)\n",
    "    result_f['men_per'][idx]=a[1]#/trip_no\n",
    "    result_f['women_per'][idx]=a[2]\n",
    "    result_f['no_gender'][idx]=a[0]\n",
    "    result_f['Ave_trip_duration'][idx]=sum(df['tripduration'])/(trip_no*60)\n",
    "    b=df['usertype'].value_counts()\n",
    "    result_f['Customer'][idx]=b['Customer']\n",
    "    result_f['Subscriber'][idx]=b['Subscriber']\n",
    "    result_f['Subscrib_per'][idx]=b['Subscriber']/trip_no\n",
    "    s=df['start station id'].value_counts().index#.sort_index()\n",
    "    e=df['end station id'].value_counts().index\n",
    "    x=np.where(df['end station id']==df['start station id'])\n",
    "    t=df.loc[x]\n",
    "    result_f['same_station'][idx]=(len(x[0]))\n",
    "    \n",
    "    \n",
    "    \n",
    "    \n",
    "    #/trip_no) #.value_counts())\n",
    "    #print(trip_no,idx,s[0:5])\n",
    "    #dist=vincenty((df['start station latitude'], df['start station longiture']), (df['end station latitude'],\n",
    "     #   df['end station longiture']))\n",
    "    #print(dist)\n",
    "    #print(index(max(s)))\n",
    "    #s=df['start station id'].value_counts().reset_index().sort([0,'index'],ascending=[False,True])\n",
    "    #b=df['birth year'].mean()#axis=0)\n",
    "    #df[['birth year',]] = df[['birth year']].astype(float)\n",
    "    #df['start time'].astype(int)\n",
    "    #pandas.to_numeric(df['birth year'])\n",
    "    #df['birth year'] = df['birth year'].apply(pandas.to_numeric)\n",
    "\n",
    "    #b=df['birth year'].mean()\n",
    "    #print(df.dtypes)\n",
    "\n",
    "    \n",
    "result_f.head() "
   ]
  },
  {
   "cell_type": "code",
   "execution_count": 43,
   "metadata": {},
   "outputs": [
    {
     "data": {
      "text/plain": [
       "0.6664635591212213"
      ]
     },
     "execution_count": 43,
     "metadata": {},
     "output_type": "execute_result"
    }
   ],
   "source": [
    "#result_f['no']=range(1,25)\n",
    "\n",
    "result_f[0:12]['Subscriber'].sum()/result_f[0:12]['trip_no'].sum()\n",
    "#result_f"
   ]
  },
  {
   "cell_type": "code",
   "execution_count": 44,
   "metadata": {},
   "outputs": [
    {
     "data": {
      "text/plain": [
       "\"\\n#test.plot(index, df['men_per'])\\ntest.plot.hist(test['no'],stacked=True,bins=24,alpha=0.5)\\n#result_f.hist(result_f, column=['men_per'])\\nplt.figure();\\ntest.plot(kind='hist', alpha=0.5) \\n#plt.plot(dates, result_f['men_per'])\\nplt.show()\\n#test\\n\""
      ]
     },
     "execution_count": 44,
     "metadata": {},
     "output_type": "execute_result"
    }
   ],
   "source": [
    "test=result_f[['men_per', 'women_per', 'no_gender']]\n",
    "\n",
    "'''\n",
    "#test.plot(index, df['men_per'])\n",
    "test.plot.hist(test['no'],stacked=True,bins=24,alpha=0.5)\n",
    "#result_f.hist(result_f, column=['men_per'])\n",
    "plt.figure();\n",
    "test.plot(kind='hist', alpha=0.5) \n",
    "#plt.plot(dates, result_f['men_per'])\n",
    "plt.show()\n",
    "#test\n",
    "'''"
   ]
  },
  {
   "cell_type": "code",
   "execution_count": 34,
   "metadata": {},
   "outputs": [
    {
     "name": "stdout",
     "output_type": "stream",
     "text": [
      "[datetime.datetime(2015, 1, 1, 0, 0), datetime.datetime(2015, 2, 1, 0, 0), datetime.datetime(2015, 3, 1, 0, 0), datetime.datetime(2015, 4, 1, 0, 0), datetime.datetime(2015, 5, 1, 0, 0), datetime.datetime(2015, 6, 1, 0, 0), datetime.datetime(2015, 7, 1, 0, 0), datetime.datetime(2015, 8, 1, 0, 0), datetime.datetime(2015, 9, 1, 0, 0), datetime.datetime(2015, 10, 1, 0, 0), datetime.datetime(2015, 11, 1, 0, 0), datetime.datetime(2015, 12, 1, 0, 0), datetime.datetime(2016, 1, 1, 0, 0), datetime.datetime(2016, 2, 1, 0, 0), datetime.datetime(2016, 3, 1, 0, 0), datetime.datetime(2016, 4, 1, 0, 0), datetime.datetime(2016, 5, 1, 0, 0), datetime.datetime(2016, 6, 1, 0, 0), datetime.datetime(2016, 7, 1, 0, 0), datetime.datetime(2016, 8, 1, 0, 0), datetime.datetime(2016, 9, 1, 0, 0), datetime.datetime(2016, 10, 1, 0, 0), datetime.datetime(2016, 11, 1, 0, 0), datetime.datetime(2016, 12, 1, 0, 0)]\n"
     ]
    }
   ],
   "source": [
    "import numpy as np\n",
    "import matplotlib.pyplot as plt\n",
    "import datetime as dt\n",
    "\n",
    "dates = []\n",
    "for year in range(2015, 2017):\n",
    "    for month in range(1, 13):\n",
    "        dates.append(dt.datetime(year=year, month=month, day=1))"
   ]
  },
  {
   "cell_type": "code",
   "execution_count": 48,
   "metadata": {},
   "outputs": [
    {
     "data": {
      "image/png": "[encoded data removed]",
      "text/plain": [
       "<matplotlib.figure.Figure at 0x11ddf49b0>"
      ]
     },
     "metadata": {},
     "output_type": "display_data"
    }
   ],
   "source": [
    "ind = np.arange(24) \n",
    "width=0.8\n",
    "f, axs = plt.subplots(1,2,figsize=(18,14))\n",
    "ax1 = plt.subplot(221)\n",
    "ax1.plot(dates, result_f['men_per'], color='m',markersize=15, label='Men users',linewidth=2)\n",
    "ax1.plot(dates, result_f['women_per'], color='r', label='Women Users',linewidth=2)\n",
    "ax1.plot(dates, result_f['no_gender'], color='g', label='Unknown',linewidth=2)\n",
    "ax1.plot(dates, result_f['trip_no'], color='b', label= 'All Users', linewidth=2)\n",
    "ax1.set_title('Number of Trips')\n",
    "plt.xticks(rotation='45')\n",
    "ax1.set_ylabel('Frequency')\n",
    "ax1.set_ylim(0,250000)\n",
    "plt.legend()\n",
    "plt.grid(True)\n",
    "\n",
    "ax2 = plt.subplot(222)\n",
    "ax2.plot(dates, result_f['trip_no'], color='b', label= 'All Users', linewidth=2)\n",
    "ax2.plot(dates, result_f['Customer'], color='c', label= 'Customers', linewidth=2)\n",
    "ax2.plot(dates, result_f['Subscriber'], color='y', label= 'Subscribers', linewidth=2)\n",
    "ax2.set_xlabel('Months of year')\n",
    "ax2.set_title('Customers and Subscribers')\n",
    "plt.xticks(rotation='45')\n",
    "ax2.set_ylim(0,250000)\n",
    "plt.grid(True)\n",
    "plt.legend()\n",
    "\n",
    "'''\n",
    "ax3 = plt.subplot(223)\n",
    "ax3.plot(dates, result_f['Ave_trip_duration'], label='Trip Duration (min)', linewidth=2)\n",
    "ax3.set_ylabel('Average Trip Duration (Min)')\n",
    "ax3.set_xlabel('Months of year')\n",
    "ax3.set_ylim(6,20)\n",
    "plt.xticks(rotation='45')\n",
    "ax3.set_title('Average Trip Duration in months of study')\n",
    "#ax2.set_xticklabels(index)\n",
    "#plt.xticks(dates + width/2) \n",
    "#ax2.set_xlim()\n",
    "#ax2.set_ylim([0, 20])\n",
    "plt.grid(True)\n",
    "plt.legend()\n",
    "\n",
    "\n",
    "ax4 = plt.subplot(224)\n",
    "#ax4.plot(dates, result_f['Ave_trip_duration'], label='Trip Duration (min)', linewidth=2)\n",
    "ax4.set_ylabel('Average Trip Duration (Min)')\n",
    "ax4.set_xlabel('Months of year')\n",
    "ax4.set_title('Average Trip Duration in months of study')\n",
    "plt.xticks(rotation='45')\n",
    "#ax2.set_xticklabels(index)\n",
    "#plt.xticks(dates + width/2) \n",
    "#ax2.set_xlim()\n",
    "#ax2.set_ylim([0, 20])\n",
    "plt.grid(True)\n",
    "plt.legend()\n",
    "'''\n",
    "plt.savefig('Figures/Sub.pdf', format='pdf')\n",
    "plt.show()"
   ]
  },
  {
   "cell_type": "code",
   "execution_count": 36,
   "metadata": {},
   "outputs": [
    {
     "name": "stdout",
     "output_type": "stream",
     "text": [
      "201501     8.673463\n",
      "201502     9.755058\n",
      "201503     9.391033\n",
      "201504    13.538678\n",
      "201505    15.455678\n",
      "201506    14.842857\n",
      "201507    15.537267\n",
      "201508    15.185440\n",
      "201509    14.346534\n",
      "201510    13.035499\n",
      "201511    12.609492\n",
      "201512    12.369331\n",
      "201601     9.355727\n",
      "201602     9.732797\n",
      "201603    13.148503\n",
      "201604    14.094076\n",
      "201605    14.615157\n",
      "201606    14.993222\n",
      "201607    15.559625\n",
      "201608    15.184918\n",
      "201609    14.196606\n",
      "201610    13.113343\n",
      "201611    12.128477\n",
      "201612    11.142478\n",
      "Name: Ave_trip_duration, dtype: float64\n"
     ]
    }
   ],
   "source": [
    "print(result_f['Ave_trip_duration'])"
   ]
  },
  {
   "cell_type": "code",
   "execution_count": 37,
   "metadata": {},
   "outputs": [
    {
     "name": "stdout",
     "output_type": "stream",
     "text": [
      "906876\n"
     ]
    },
    {
     "name": "stderr",
     "output_type": "stream",
     "text": [
      "/Users/fereshteh/anaconda3/lib/python3.6/site-packages/IPython/core/interactiveshell.py:2698: DtypeWarning: Columns (9) have mixed types. Specify dtype option on import or set low_memory=False.\n",
      "  interactivity=interactivity, compiler=compiler, result=result)\n"
     ]
    },
    {
     "data": {
      "text/plain": [
       "['Duration',\n",
       " 'Start date',\n",
       " 'End date',\n",
       " 'Start station number',\n",
       " 'Start station name',\n",
       " 'End station number',\n",
       " 'End station name',\n",
       " 'Bike number',\n",
       " 'Member type',\n",
       " 'Zip code',\n",
       " 'Gender']"
      ]
     },
     "execution_count": 37,
     "metadata": {},
     "output_type": "execute_result"
    }
   ],
   "source": [
    "year=pandas.read_csv('Data/hubway_Trips_2013.csv')\n",
    "print(len(year))\n",
    "list(year)"
   ]
  },
  {
   "cell_type": "code",
   "execution_count": 40,
   "metadata": {},
   "outputs": [
    {
     "name": "stdout",
     "output_type": "stream",
     "text": [
      "417473\n"
     ]
    },
    {
     "name": "stderr",
     "output_type": "stream",
     "text": [
      "/Users/fereshteh/anaconda3/lib/python3.6/site-packages/IPython/core/interactiveshell.py:2698: DtypeWarning: Columns (9) have mixed types. Specify dtype option on import or set low_memory=False.\n",
      "  interactivity=interactivity, compiler=compiler, result=result)\n"
     ]
    },
    {
     "data": {
      "text/plain": [
       "['Duration',\n",
       " 'Start date',\n",
       " 'End date',\n",
       " 'Start station number',\n",
       " 'Start station name',\n",
       " 'End station number',\n",
       " 'End station name',\n",
       " 'Bike number',\n",
       " 'Member type',\n",
       " 'Zip code',\n",
       " 'Gender']"
      ]
     },
     "execution_count": 40,
     "metadata": {},
     "output_type": "execute_result"
    }
   ],
   "source": [
    "year=pandas.read_csv('Data/hubway_Trips_2014_1.csv')\n",
    "print(len(year))\n",
    "list(year)\n"
   ]
  },
  {
   "cell_type": "code",
   "execution_count": null,
   "metadata": {
    "collapsed": true
   },
   "outputs": [],
   "source": []
  },
  {
   "cell_type": "code",
   "execution_count": null,
   "metadata": {
    "collapsed": true
   },
   "outputs": [],
   "source": [
    "\n"
   ]
  },
  {
   "cell_type": "code",
   "execution_count": null,
   "metadata": {
    "collapsed": true
   },
   "outputs": [],
   "source": []
  }
 ],
 "metadata": {
  "kernelspec": {
   "display_name": "Python 3",
   "language": "python",
   "name": "python3"
  },
  "language_info": {
   "codemirror_mode": {
    "name": "ipython",
    "version": 3
   },
   "file_extension": ".py",
   "mimetype": "text/x-python",
   "name": "python",
   "nbconvert_exporter": "python",
   "pygments_lexer": "ipython3",
   "version": "3.6.2"
  }
 },
 "nbformat": 4,
 "nbformat_minor": 1
}
